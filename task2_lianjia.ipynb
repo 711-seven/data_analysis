{
 "cells": [
  {
   "cell_type": "code",
   "execution_count": 58,
   "metadata": {},
   "outputs": [],
   "source": [
    "import pandas as pd\n",
    "import numpy as np\n",
    "import matplotlib.pyplot as plt\n",
    "\n",
    "from warnings import simplefilter\n",
    "simplefilter(action='ignore', category=FutureWarning)\n",
    "\n",
    "plt.rcParams[\"font.family\"]=\"SimHei\"\n",
    "plt.rcParams[\"font.size\"]=13"
   ]
  },
  {
   "cell_type": "code",
   "execution_count": 9,
   "metadata": {},
   "outputs": [
    {
     "data": {
      "text/html": [
       "<div>\n",
       "<style scoped>\n",
       "    .dataframe tbody tr th:only-of-type {\n",
       "        vertical-align: middle;\n",
       "    }\n",
       "\n",
       "    .dataframe tbody tr th {\n",
       "        vertical-align: top;\n",
       "    }\n",
       "\n",
       "    .dataframe thead th {\n",
       "        text-align: right;\n",
       "    }\n",
       "</style>\n",
       "<table border=\"1\" class=\"dataframe\">\n",
       "  <thead>\n",
       "    <tr style=\"text-align: right;\">\n",
       "      <th></th>\n",
       "      <th>简介（方式·小区名 户型 朝向）</th>\n",
       "      <th>区</th>\n",
       "      <th>地铁站</th>\n",
       "      <th>村</th>\n",
       "      <th>面积大小（㎡）</th>\n",
       "      <th>朝向</th>\n",
       "      <th>户型</th>\n",
       "      <th>楼层类型</th>\n",
       "      <th>楼层（层）</th>\n",
       "      <th>标签</th>\n",
       "    </tr>\n",
       "  </thead>\n",
       "  <tbody>\n",
       "    <tr>\n",
       "      <td>0</td>\n",
       "      <td>整租·长桥一村 1室0厅 南</td>\n",
       "      <td>徐汇</td>\n",
       "      <td>长桥</td>\n",
       "      <td>长桥一村</td>\n",
       "      <td>39</td>\n",
       "      <td>南</td>\n",
       "      <td>1室0厅1卫</td>\n",
       "      <td>高楼层</td>\n",
       "      <td>6</td>\n",
       "      <td>随时看房</td>\n",
       "    </tr>\n",
       "    <tr>\n",
       "      <td>1</td>\n",
       "      <td>整租·馨宁公寓 1室1厅 南</td>\n",
       "      <td>徐汇</td>\n",
       "      <td>华泾</td>\n",
       "      <td>馨宁公寓</td>\n",
       "      <td>42</td>\n",
       "      <td>南</td>\n",
       "      <td>1室1厅1卫</td>\n",
       "      <td>高楼层</td>\n",
       "      <td>29</td>\n",
       "      <td>精装,随时看房</td>\n",
       "    </tr>\n",
       "    <tr>\n",
       "      <td>2</td>\n",
       "      <td>整租·长桥三村 2室1厅 南</td>\n",
       "      <td>徐汇</td>\n",
       "      <td>长桥</td>\n",
       "      <td>长桥三村</td>\n",
       "      <td>51</td>\n",
       "      <td>南</td>\n",
       "      <td>2室1厅1卫</td>\n",
       "      <td>高楼层</td>\n",
       "      <td>6</td>\n",
       "      <td>随时看房</td>\n",
       "    </tr>\n",
       "    <tr>\n",
       "      <td>3</td>\n",
       "      <td>整租·东湾小区 1室1厅 南</td>\n",
       "      <td>徐汇</td>\n",
       "      <td>华泾</td>\n",
       "      <td>东湾小区</td>\n",
       "      <td>47</td>\n",
       "      <td>南</td>\n",
       "      <td>1室1厅1卫</td>\n",
       "      <td>中楼层</td>\n",
       "      <td>6</td>\n",
       "      <td>随时看房</td>\n",
       "    </tr>\n",
       "    <tr>\n",
       "      <td>4</td>\n",
       "      <td>整租·花苑村紫竹园 1室1厅 南</td>\n",
       "      <td>徐汇</td>\n",
       "      <td>康健</td>\n",
       "      <td>花苑村紫竹园</td>\n",
       "      <td>42</td>\n",
       "      <td>南</td>\n",
       "      <td>1室1厅1卫</td>\n",
       "      <td>高楼层</td>\n",
       "      <td>6</td>\n",
       "      <td>随时看房</td>\n",
       "    </tr>\n",
       "  </tbody>\n",
       "</table>\n",
       "</div>"
      ],
      "text/plain": [
       "   简介（方式·小区名 户型 朝向）   区 地铁站       村  面积大小（㎡） 朝向      户型  \\\n",
       "0    整租·长桥一村 1室0厅 南  徐汇  长桥    长桥一村       39  南  1室0厅1卫   \n",
       "1    整租·馨宁公寓 1室1厅 南  徐汇  华泾    馨宁公寓       42  南  1室1厅1卫   \n",
       "2    整租·长桥三村 2室1厅 南  徐汇  长桥    长桥三村       51  南  2室1厅1卫   \n",
       "3    整租·东湾小区 1室1厅 南  徐汇  华泾    东湾小区       47  南  1室1厅1卫   \n",
       "4  整租·花苑村紫竹园 1室1厅 南  徐汇  康健  花苑村紫竹园       42  南  1室1厅1卫   \n",
       "\n",
       "                          楼层类型  楼层（层）       标签  \n",
       "0  高楼层                              6     随时看房  \n",
       "1  高楼层                             29  精装,随时看房  \n",
       "2  高楼层                              6     随时看房  \n",
       "3  中楼层                              6     随时看房  \n",
       "4  高楼层                              6     随时看房  "
      ]
     },
     "metadata": {},
     "output_type": "display_data"
    }
   ],
   "source": [
    "# 读取csv文件 \n",
    "\n",
    "with open ('C:/Users/seven/Documents/Python Scripts/task_2_lianjia_data.csv','r',encoding='utf-8') as f:\n",
    "    lianjia_data = pd.read_csv(f)\n",
    "    display(lianjia_data.head())"
   ]
  },
  {
   "cell_type": "code",
   "execution_count": 51,
   "metadata": {},
   "outputs": [
    {
     "data": {
      "text/html": [
       "<div>\n",
       "<style scoped>\n",
       "    .dataframe tbody tr th:only-of-type {\n",
       "        vertical-align: middle;\n",
       "    }\n",
       "\n",
       "    .dataframe tbody tr th {\n",
       "        vertical-align: top;\n",
       "    }\n",
       "\n",
       "    .dataframe thead th {\n",
       "        text-align: right;\n",
       "    }\n",
       "</style>\n",
       "<table border=\"1\" class=\"dataframe\">\n",
       "  <thead>\n",
       "    <tr style=\"text-align: right;\">\n",
       "      <th></th>\n",
       "      <th>房源数量</th>\n",
       "    </tr>\n",
       "    <tr>\n",
       "      <th>面积大小（㎡）</th>\n",
       "      <th></th>\n",
       "    </tr>\n",
       "  </thead>\n",
       "  <tbody>\n",
       "    <tr>\n",
       "      <td>38</td>\n",
       "      <td>24</td>\n",
       "    </tr>\n",
       "    <tr>\n",
       "      <td>39</td>\n",
       "      <td>11</td>\n",
       "    </tr>\n",
       "    <tr>\n",
       "      <td>40</td>\n",
       "      <td>9</td>\n",
       "    </tr>\n",
       "    <tr>\n",
       "      <td>41</td>\n",
       "      <td>22</td>\n",
       "    </tr>\n",
       "    <tr>\n",
       "      <td>42</td>\n",
       "      <td>20</td>\n",
       "    </tr>\n",
       "    <tr>\n",
       "      <td>43</td>\n",
       "      <td>15</td>\n",
       "    </tr>\n",
       "    <tr>\n",
       "      <td>44</td>\n",
       "      <td>8</td>\n",
       "    </tr>\n",
       "  </tbody>\n",
       "</table>\n",
       "</div>"
      ],
      "text/plain": [
       "         房源数量\n",
       "面积大小（㎡）      \n",
       "38         24\n",
       "39         11\n",
       "40          9\n",
       "41         22\n",
       "42         20\n",
       "43         15\n",
       "44          8"
      ]
     },
     "execution_count": 51,
     "metadata": {},
     "output_type": "execute_result"
    }
   ],
   "source": [
    "# 以[面积大小(m²)]字段进行 groupby，统计各个面积下的[房源数量]情况\n",
    "\n",
    "group_area = lianjia_data.groupby(r\"面积大小（㎡）\")[r\"简介（方式·小区名 户型 朝向）\"].agg({\"房源数量\": \"count\"})\n",
    "display(group_area)\n"
   ]
  },
  {
   "cell_type": "code",
   "execution_count": 59,
   "metadata": {},
   "outputs": [
    {
     "data": {
      "image/png": "[encoded data removed]",
      "text/plain": [
       "<Figure size 720x288 with 1 Axes>"
      ]
     },
     "metadata": {
      "needs_background": "light"
     },
     "output_type": "display_data"
    }
   ],
   "source": [
    "# 将所统计数据，作折线图和条形图，并得出相关结论\n",
    "area = group_area.index\n",
    "num = group_area.values.reshape(-1)\n",
    "\n",
    "plt.figure(figsize=(10,4))\n",
    "plt.plot(area, num)\n",
    "plt.xticks(range(0,np.max(area)+10,10))\n",
    "plt.yticks(range(0,np.max(num)+5,5))\n",
    "plt.xlabel(\"面积大小（㎡）\") \n",
    "plt.ylabel(\"房源数量\")\n",
    "plt.title(\"面积在25-55平方米之间的出租房的房源数量最多\")\n",
    "plt.show()\n"
   ]
  },
  {
   "cell_type": "code",
   "execution_count": 60,
   "metadata": {},
   "outputs": [
    {
     "data": {
      "image/png": "[encoded data removed]",
      "text/plain": [
       "<Figure size 720x288 with 1 Axes>"
      ]
     },
     "metadata": {
      "needs_background": "light"
     },
     "output_type": "display_data"
    }
   ],
   "source": [
    "plt.figure(figsize=(10,4))\n",
    "plt.bar(area,num)\n",
    "plt.xticks(range(0, np.max(area)+10, 10))\n",
    "plt.yticks(range(0, np.max(num)+5,5))\n",
    "plt.xlabel(\"面积大小（㎡）\") \n",
    "plt.ylabel(\"房源数量\")\n",
    "plt.title(\"面积在25-55平方米之间的出租房的房源数量最多\")\n",
    "plt.show()"
   ]
  },
  {
   "cell_type": "code",
   "execution_count": 56,
   "metadata": {},
   "outputs": [
    {
     "data": {
      "text/html": [
       "<div>\n",
       "<style scoped>\n",
       "    .dataframe tbody tr th:only-of-type {\n",
       "        vertical-align: middle;\n",
       "    }\n",
       "\n",
       "    .dataframe tbody tr th {\n",
       "        vertical-align: top;\n",
       "    }\n",
       "\n",
       "    .dataframe thead th {\n",
       "        text-align: right;\n",
       "    }\n",
       "</style>\n",
       "<table border=\"1\" class=\"dataframe\">\n",
       "  <thead>\n",
       "    <tr style=\"text-align: right;\">\n",
       "      <th></th>\n",
       "      <th>房源数量</th>\n",
       "    </tr>\n",
       "    <tr>\n",
       "      <th>区</th>\n",
       "      <th></th>\n",
       "    </tr>\n",
       "  </thead>\n",
       "  <tbody>\n",
       "    <tr>\n",
       "      <td>嘉定</td>\n",
       "      <td>6</td>\n",
       "    </tr>\n",
       "    <tr>\n",
       "      <td>奉贤</td>\n",
       "      <td>1</td>\n",
       "    </tr>\n",
       "    <tr>\n",
       "      <td>徐汇</td>\n",
       "      <td>126</td>\n",
       "    </tr>\n",
       "    <tr>\n",
       "      <td>普陀</td>\n",
       "      <td>22</td>\n",
       "    </tr>\n",
       "    <tr>\n",
       "      <td>杨浦</td>\n",
       "      <td>56</td>\n",
       "    </tr>\n",
       "    <tr>\n",
       "      <td>松江</td>\n",
       "      <td>45</td>\n",
       "    </tr>\n",
       "    <tr>\n",
       "      <td>浦东</td>\n",
       "      <td>106</td>\n",
       "    </tr>\n",
       "    <tr>\n",
       "      <td>虹口</td>\n",
       "      <td>24</td>\n",
       "    </tr>\n",
       "    <tr>\n",
       "      <td>长宁</td>\n",
       "      <td>86</td>\n",
       "    </tr>\n",
       "    <tr>\n",
       "      <td>闵行</td>\n",
       "      <td>86</td>\n",
       "    </tr>\n",
       "    <tr>\n",
       "      <td>青浦</td>\n",
       "      <td>10</td>\n",
       "    </tr>\n",
       "    <tr>\n",
       "      <td>静安</td>\n",
       "      <td>108</td>\n",
       "    </tr>\n",
       "    <tr>\n",
       "      <td>黄浦</td>\n",
       "      <td>76</td>\n",
       "    </tr>\n",
       "  </tbody>\n",
       "</table>\n",
       "</div>"
      ],
      "text/plain": [
       "    房源数量\n",
       "区       \n",
       "嘉定     6\n",
       "奉贤     1\n",
       "徐汇   126\n",
       "普陀    22\n",
       "杨浦    56\n",
       "松江    45\n",
       "浦东   106\n",
       "虹口    24\n",
       "长宁    86\n",
       "闵行    86\n",
       "青浦    10\n",
       "静安   108\n",
       "黄浦    76"
      ]
     },
     "execution_count": 56,
     "metadata": {},
     "output_type": "execute_result"
    }
   ],
   "source": [
    "# 以【区】字段进行 groupby，统计各个上海各个“区”所属的【房源数量】情况\n",
    "\n",
    "group_region = lianjia_data.groupby(\"区\")[\"简介（方式·小区名 户型 朝向）\"].agg({\"房源数量\": \"count\"})\n",
    "display(group_region)"
   ]
  },
  {
   "cell_type": "code",
   "execution_count": 65,
   "metadata": {},
   "outputs": [
    {
     "data": {
      "image/png": "[encoded data removed]",
      "text/plain": [
       "<Figure size 720x288 with 1 Axes>"
      ]
     },
     "metadata": {
      "needs_background": "light"
     },
     "output_type": "display_data"
    }
   ],
   "source": [
    "# 将所统计数据，作条形图，并得出相关结论\n",
    "region = group_region.index\n",
    "num_2 = group_region.values.reshape(-1)\n",
    "\n",
    "plt.figure(figsize=(10,4))\n",
    "plt.xlabel(\"区\")\n",
    "plt.ylabel(\"房源数量\")\n",
    "plt.bar(region, num_2)\n",
    "plt.title(\"徐汇区房源数量最多\")\n",
    "plt.show()\n"
   ]
  },
  {
   "cell_type": "code",
   "execution_count": 66,
   "metadata": {},
   "outputs": [
    {
     "data": {
      "text/html": [
       "<div>\n",
       "<style scoped>\n",
       "    .dataframe tbody tr th:only-of-type {\n",
       "        vertical-align: middle;\n",
       "    }\n",
       "\n",
       "    .dataframe tbody tr th {\n",
       "        vertical-align: top;\n",
       "    }\n",
       "\n",
       "    .dataframe thead th {\n",
       "        text-align: right;\n",
       "    }\n",
       "</style>\n",
       "<table border=\"1\" class=\"dataframe\">\n",
       "  <thead>\n",
       "    <tr style=\"text-align: right;\">\n",
       "      <th></th>\n",
       "      <th>房源数量</th>\n",
       "    </tr>\n",
       "    <tr>\n",
       "      <th>楼层类型</th>\n",
       "      <th></th>\n",
       "    </tr>\n",
       "  </thead>\n",
       "  <tbody>\n",
       "    <tr>\n",
       "      <td>中楼层</td>\n",
       "      <td>231</td>\n",
       "    </tr>\n",
       "    <tr>\n",
       "      <td>低楼层</td>\n",
       "      <td>146</td>\n",
       "    </tr>\n",
       "    <tr>\n",
       "      <td>地下室</td>\n",
       "      <td>5</td>\n",
       "    </tr>\n",
       "    <tr>\n",
       "      <td>高楼层</td>\n",
       "      <td>370</td>\n",
       "    </tr>\n",
       "  </tbody>\n",
       "</table>\n",
       "</div>"
      ],
      "text/plain": [
       "                             房源数量\n",
       "楼层类型                             \n",
       "中楼层                           231\n",
       "低楼层                           146\n",
       "地下室                             5\n",
       "高楼层                           370"
      ]
     },
     "metadata": {},
     "output_type": "display_data"
    }
   ],
   "source": [
    "# 以【楼层类型】字段进行 groupby，统计各个楼层所属的【房源数量】情况\n",
    "group_floor = lianjia_data.groupby(\"楼层类型\")[\"简介（方式·小区名 户型 朝向）\"].agg({\"房源数量\": \"count\"})\n",
    "display(group_floor)"
   ]
  },
  {
   "cell_type": "code",
   "execution_count": 88,
   "metadata": {},
   "outputs": [
    {
     "data": {
      "image/png": "[encoded data removed]",
      "text/plain": [
       "<Figure size 432x432 with 1 Axes>"
      ]
     },
     "metadata": {},
     "output_type": "display_data"
    }
   ],
   "source": [
    "# 将所统计数据，作饼图(阅读参考文章 9)，并得出相关结论\n",
    "\n",
    "floor = group_floor.index.to_list()\n",
    "floor = [x.strip() for x in floor]\n",
    "num_3 = group_floor.values.reshape(-1)\n",
    "\n",
    "plt.figure(figsize=(6,6))\n",
    "plt.pie(num_3,labels=floor,autopct=\"%.1f%%\")   \n",
    "# autopct :控制饼图内百分比设置,可以使用format字符串或者format function\n",
    "# %% 转义 输出%\n",
    "plt.title(\"高楼层的出租房源数量最多\")\n",
    "plt.show()"
   ]
  },
  {
   "cell_type": "code",
   "execution_count": null,
   "metadata": {},
   "outputs": [],
   "source": []
  }
 ],
 "metadata": {
  "kernelspec": {
   "display_name": "Python 3",
   "language": "python",
   "name": "python3"
  },
  "language_info": {
   "codemirror_mode": {
    "name": "ipython",
    "version": 3
   },
   "file_extension": ".py",
   "mimetype": "text/x-python",
   "name": "python",
   "nbconvert_exporter": "python",
   "pygments_lexer": "ipython3",
   "version": "3.7.4"
  },
  "toc": {
   "base_numbering": 1,
   "nav_menu": {},
   "number_sections": true,
   "sideBar": true,
   "skip_h1_title": true,
   "title_cell": "Table of Contents",
   "title_sidebar": "Contents",
   "toc_cell": false,
   "toc_position": {},
   "toc_section_display": true,
   "toc_window_display": false
  }
 },
 "nbformat": 4,
 "nbformat_minor": 2
}
